{
 "cells": [
  {
   "cell_type": "markdown",
   "id": "protective-hanging",
   "metadata": {},
   "source": [
    "# Desafio 1"
   ]
  },
  {
   "cell_type": "markdown",
   "id": "traditional-polymer",
   "metadata": {},
   "source": [
    "### Exercício 1 - Conjectura de Legendre\n",
    "\n",
    "A Conjectura de Legendre, enunciada por de Adrien-Marie Legendre, afirma que existe sempre um número primo entre $n^2 $ e $(n+1)^2$, para qualquer $n$ inteiro positivo\n",
    "\n",
    "Seu desafio será criar uma função que, dado um input (inteiro n) retorne todos os números primos entre $n^2$ e $(n+1)^2$. \n",
    "\n",
    "Exemplo:\n",
    "\n",
    "    > input: 4\n",
    "    \n",
    "    > output: [17,19,23]"
   ]
  },
  {
   "cell_type": "code",
   "execution_count": null,
   "id": "indoor-graduation",
   "metadata": {},
   "outputs": [],
   "source": [
    "def isprime(n):\n",
    "    \"\"\"\n",
    "    Esta função verifica se um número é ou não primo\n",
    "    \"\"\""
   ]
  },
  {
   "cell_type": "code",
   "execution_count": null,
   "id": "surgical-smile",
   "metadata": {},
   "outputs": [],
   "source": [
    "def LegendreConjecture(n):\n",
    "    \"\"\"\n",
    "    Esta função calcula a conjectura de Legendre, como descrita acima\n",
    "    \"\"\""
   ]
  },
  {
   "cell_type": "code",
   "execution_count": null,
   "id": "greenhouse-partner",
   "metadata": {},
   "outputs": [],
   "source": [
    "#teste\n",
    "LegendreConjecture(4)"
   ]
  },
  {
   "cell_type": "markdown",
   "id": "european-enlargement",
   "metadata": {},
   "source": [
    "### Exercício 2\n",
    "\n",
    "Dada a seguinte string s, escreva uma expressão regular que retorne todos os números de telefone contidos nela."
   ]
  },
  {
   "cell_type": "code",
   "execution_count": null,
   "id": "worth-engineering",
   "metadata": {},
   "outputs": [],
   "source": [
    "s = 'Office of Research Administration: (734) 647-6333 | 4325 North Quad \\\n",
    "Office of Budget and Financial Administration: (734) 647-8044 | 309 Maynard, Suite 205 \\\n",
    "Health Informatics Program: (734) 763-2285 | 333 Maynard, Suite 500 \\\n",
    "Office of the Dean: (734) 647-3576 | 4322 North Quad \\\n",
    "UMSI Engagement Center: (734) 763-1251 | 777 North University \\\n",
    "Faculty Adminstrative Support Staff: (734) 764-9376 | 4322 North Quad'"
   ]
  },
  {
   "cell_type": "code",
   "execution_count": null,
   "id": "valid-blink",
   "metadata": {},
   "outputs": [],
   "source": []
  },
  {
   "cell_type": "markdown",
   "id": "close-effect",
   "metadata": {},
   "source": [
    "### Exercício 3\n",
    "A distância L2, ou distância Euclidiana, é definida pela seguinte fórmula: \n",
    "\n",
    "$L2 = \\sqrt{\\sum_{i=1}^n (a_i - b_i)^2}$\n",
    "\n",
    "Escreva uma função que receba dois parâmetros, a e b, e retorne a distância L2 entre eles. a e b precisam ser um numpy.array de mesmo tamanho"
   ]
  },
  {
   "cell_type": "code",
   "execution_count": 1,
   "id": "sapphire-absorption",
   "metadata": {},
   "outputs": [],
   "source": [
    "def l2_dist(a, b):\n",
    "    pass"
   ]
  },
  {
   "cell_type": "code",
   "execution_count": null,
   "id": "upper-somerset",
   "metadata": {},
   "outputs": [],
   "source": [
    "import numpy as np\n",
    "a = np.array([1,2,4,6])\n",
    "b = np.array([1,3,5,7])\n",
    "l2_dist(a,b)"
   ]
  },
  {
   "cell_type": "markdown",
   "id": "superior-lambda",
   "metadata": {},
   "source": [
    "### Exercício 4\n",
    "Vamos utilizar o dataset breast_cancer_data.csv para fazer uma análise exploratória cujo objetivo é responder a alguns questionamentos que surgiram a respeito desse conjunto.\n",
    "\n",
    "Vamos começar lendo e entendendo nossos dados:"
   ]
  },
  {
   "cell_type": "code",
   "execution_count": 2,
   "id": "patent-cycling",
   "metadata": {},
   "outputs": [],
   "source": [
    "import pandas as pd\n",
    "import numpy as np"
   ]
  },
  {
   "cell_type": "code",
   "execution_count": 4,
   "id": "smoking-gibson",
   "metadata": {},
   "outputs": [
    {
     "data": {
      "text/html": [
       "<div>\n",
       "<style scoped>\n",
       "    .dataframe tbody tr th:only-of-type {\n",
       "        vertical-align: middle;\n",
       "    }\n",
       "\n",
       "    .dataframe tbody tr th {\n",
       "        vertical-align: top;\n",
       "    }\n",
       "\n",
       "    .dataframe thead th {\n",
       "        text-align: right;\n",
       "    }\n",
       "</style>\n",
       "<table border=\"1\" class=\"dataframe\">\n",
       "  <thead>\n",
       "    <tr style=\"text-align: right;\">\n",
       "      <th></th>\n",
       "      <th>id</th>\n",
       "      <th>clump_thickness</th>\n",
       "      <th>cell_size_uniformity</th>\n",
       "      <th>cell_shape_uniformity</th>\n",
       "      <th>marginal_adhesion</th>\n",
       "      <th>single_ep_cell_size</th>\n",
       "      <th>bare_nuclei</th>\n",
       "      <th>bland_chromatin</th>\n",
       "      <th>normal_nucleoli</th>\n",
       "      <th>mitoses</th>\n",
       "      <th>class</th>\n",
       "      <th>doctor_name</th>\n",
       "    </tr>\n",
       "  </thead>\n",
       "  <tbody>\n",
       "    <tr>\n",
       "      <th>0</th>\n",
       "      <td>1000025</td>\n",
       "      <td>5.0</td>\n",
       "      <td>1.0</td>\n",
       "      <td>1</td>\n",
       "      <td>1</td>\n",
       "      <td>2</td>\n",
       "      <td>1</td>\n",
       "      <td>3.0</td>\n",
       "      <td>1.0</td>\n",
       "      <td>1</td>\n",
       "      <td>benign</td>\n",
       "      <td>Dr. Doe</td>\n",
       "    </tr>\n",
       "    <tr>\n",
       "      <th>1</th>\n",
       "      <td>1002945</td>\n",
       "      <td>5.0</td>\n",
       "      <td>4.0</td>\n",
       "      <td>4</td>\n",
       "      <td>5</td>\n",
       "      <td>7</td>\n",
       "      <td>10</td>\n",
       "      <td>3.0</td>\n",
       "      <td>2.0</td>\n",
       "      <td>1</td>\n",
       "      <td>benign</td>\n",
       "      <td>Dr. Smith</td>\n",
       "    </tr>\n",
       "    <tr>\n",
       "      <th>2</th>\n",
       "      <td>1015425</td>\n",
       "      <td>3.0</td>\n",
       "      <td>1.0</td>\n",
       "      <td>1</td>\n",
       "      <td>1</td>\n",
       "      <td>2</td>\n",
       "      <td>2</td>\n",
       "      <td>3.0</td>\n",
       "      <td>1.0</td>\n",
       "      <td>1</td>\n",
       "      <td>benign</td>\n",
       "      <td>Dr. Lee</td>\n",
       "    </tr>\n",
       "    <tr>\n",
       "      <th>3</th>\n",
       "      <td>1016277</td>\n",
       "      <td>6.0</td>\n",
       "      <td>8.0</td>\n",
       "      <td>8</td>\n",
       "      <td>1</td>\n",
       "      <td>3</td>\n",
       "      <td>4</td>\n",
       "      <td>3.0</td>\n",
       "      <td>7.0</td>\n",
       "      <td>1</td>\n",
       "      <td>benign</td>\n",
       "      <td>Dr. Smith</td>\n",
       "    </tr>\n",
       "    <tr>\n",
       "      <th>4</th>\n",
       "      <td>1017023</td>\n",
       "      <td>4.0</td>\n",
       "      <td>1.0</td>\n",
       "      <td>1</td>\n",
       "      <td>3</td>\n",
       "      <td>2</td>\n",
       "      <td>1</td>\n",
       "      <td>3.0</td>\n",
       "      <td>1.0</td>\n",
       "      <td>1</td>\n",
       "      <td>benign</td>\n",
       "      <td>Dr. Wong</td>\n",
       "    </tr>\n",
       "  </tbody>\n",
       "</table>\n",
       "</div>"
      ],
      "text/plain": [
       "        id  clump_thickness  cell_size_uniformity  cell_shape_uniformity  \\\n",
       "0  1000025              5.0                   1.0                      1   \n",
       "1  1002945              5.0                   4.0                      4   \n",
       "2  1015425              3.0                   1.0                      1   \n",
       "3  1016277              6.0                   8.0                      8   \n",
       "4  1017023              4.0                   1.0                      1   \n",
       "\n",
       "   marginal_adhesion  single_ep_cell_size bare_nuclei  bland_chromatin  \\\n",
       "0                  1                    2           1              3.0   \n",
       "1                  5                    7          10              3.0   \n",
       "2                  1                    2           2              3.0   \n",
       "3                  1                    3           4              3.0   \n",
       "4                  3                    2           1              3.0   \n",
       "\n",
       "   normal_nucleoli  mitoses   class doctor_name  \n",
       "0              1.0        1  benign     Dr. Doe  \n",
       "1              2.0        1  benign   Dr. Smith  \n",
       "2              1.0        1  benign     Dr. Lee  \n",
       "3              7.0        1  benign   Dr. Smith  \n",
       "4              1.0        1  benign    Dr. Wong  "
      ]
     },
     "execution_count": 4,
     "metadata": {},
     "output_type": "execute_result"
    }
   ],
   "source": [
    "colunas = ['id','clump_thickness','cell_size_uniformity','cell_shape_uniformity','marginal_adhesion','single_ep_cell_size',\n",
    "          'bare_nuclei','bland_chromatin','normal_nucleoli','mitoses','class','doctor_name']\n",
    "\n",
    "data = pd.read_csv('bases/breast_cancer_data.csv',names=colunas)\n",
    "data.head()"
   ]
  },
  {
   "cell_type": "markdown",
   "id": "otherwise-submission",
   "metadata": {},
   "source": [
    "#### TODO 2.1: entendimento básico dos dados - preencha as lacunas no código a fim de obter o resultado desejado"
   ]
  },
  {
   "cell_type": "code",
   "execution_count": null,
   "id": "processed-visiting",
   "metadata": {},
   "outputs": [],
   "source": [
    "# quantas linhas e quantas colunas existem no dataset?\n",
    "print('formato: ', xxxxx, '\\n')\n",
    "\n",
    "# quais os tipos de dados de cada coluna?\n",
    "print('tipos de dados: ', xxxxx,'\\n')\n",
    "\n",
    "# quais as principais estatísticas dos dados numéricos do dataset?\n",
    "print('principais estatísticas: ', xxxxx, '\\n')"
   ]
  },
  {
   "cell_type": "markdown",
   "id": "graphic-newsletter",
   "metadata": {},
   "source": [
    "#### TODO 2.2: obtendo informações sobre o dataset\n",
    "\n",
    "retorne uma Serie que mostre qual a classificação (maligno e benigno) que cada médico deu para cada amostra: \n"
   ]
  },
  {
   "cell_type": "code",
   "execution_count": 1,
   "id": "closed-blake",
   "metadata": {},
   "outputs": [],
   "source": [
    "# Exemplo de retorno\n",
    "#  class      doctor_name\n",
    "#  benign   Dr. Doe        127\n",
    "#           Dr. Lee        121\n",
    "#           Dr. Smith      102\n",
    "#           Dr. Wong       108"
   ]
  },
  {
   "cell_type": "code",
   "execution_count": null,
   "id": "logical-identity",
   "metadata": {},
   "outputs": [],
   "source": [
    "# Resposta: "
   ]
  },
  {
   "cell_type": "markdown",
   "id": "lightweight-robert",
   "metadata": {},
   "source": [
    "#### TODO 2.3: obtendo informações sobre o dataset"
   ]
  },
  {
   "cell_type": "code",
   "execution_count": null,
   "id": "computational-crown",
   "metadata": {},
   "outputs": [],
   "source": [
    "# Use o método select_dtypes() para selecionar apenas colunas do tipo float64 e int64. Armazene na variável data_num\n",
    "data_num = \n",
    "#corr\n",
    "# Encontre as n variáveis que possuem um valor absoluto de correlação maior que 0.5 com a variável clump_thickness, excluindo ela mesma \n",
    "# retorne os valores de forma descendente\n",
    "# sempre utilize a variável data_num para receber o resultado de suas operações\n",
    "\n",
    "print(\"Existem {} variáveis correlacionadas com clump_thickness:\\n{}\".format(len(data_num), data_num))"
   ]
  },
  {
   "cell_type": "markdown",
   "id": "encouraging-madness",
   "metadata": {},
   "source": [
    "#### TODO 2.4: obtendo informações sobre o dataset"
   ]
  },
  {
   "cell_type": "code",
   "execution_count": null,
   "id": "sought-greensboro",
   "metadata": {},
   "outputs": [],
   "source": [
    "# qual o tamanho médio das células para cada tipo de tumor?\n",
    "print('Tamanho médio do tipo benigno: ',xxxxx,'\\n') #\n",
    "print('Tamanho médio do tipo maligno: ',xxxxx,'\\n')\n",
    "\n",
    "# qual o número máximo de mitoses em tumores benignos encontrados pelo Dr. Wong?\n",
    "print('Número máximo de mitoses em tumores benignos: ', xxxxx)\n",
    "\n",
    "# e qual o número máximo de mitoses em tumores malignos encontrados pelo mesmo médico?\n",
    "print('\\nNúmero máximo de mitoses em tumores malignos: ',xxxxx)"
   ]
  },
  {
   "cell_type": "markdown",
   "id": "accredited-columbia",
   "metadata": {},
   "source": [
    "#### TODO 2.5: filtrando os dados"
   ]
  },
  {
   "cell_type": "code",
   "execution_count": null,
   "id": "derived-james",
   "metadata": {},
   "outputs": [],
   "source": [
    "# Existem três pacientes (id) que aparecem mais que duas vezes no dataset. Retorne uma série ordenada de forma descendente que mostre o\n",
    "# id do paciente bem como a quantidade de vezes que ele aparece repetido no dataset\n",
    "\n",
    "repeated_patients = xxxxx\n",
    "# Elimine esses três pacientes do dataframe de modo que este contenha apenas pacientes que apareceram no máximo duas vezes\n",
    "filtered_patients = xxxxx\n",
    "#retorne o dataset completo  \n",
    "filtered_data = xxxxx"
   ]
  }
 ],
 "metadata": {
  "kernelspec": {
   "display_name": "Python 3 (ipykernel)",
   "language": "python",
   "name": "python3"
  },
  "language_info": {
   "codemirror_mode": {
    "name": "ipython",
    "version": 3
   },
   "file_extension": ".py",
   "mimetype": "text/x-python",
   "name": "python",
   "nbconvert_exporter": "python",
   "pygments_lexer": "ipython3",
   "version": "3.9.12"
  }
 },
 "nbformat": 4,
 "nbformat_minor": 5
}
