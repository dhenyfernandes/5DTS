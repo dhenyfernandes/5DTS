{
 "cells": [
  {
   "cell_type": "markdown",
   "id": "7f4eeac9-9845-4fea-8a93-04968d739bc7",
   "metadata": {},
   "source": [
    "# Jupyter Notebook - Um Overview"
   ]
  },
  {
   "cell_type": "markdown",
   "id": "9e574687-d4b5-4feb-953f-7f9567e17530",
   "metadata": {},
   "source": [
    "## Agenda\n",
    "\n",
    "- [O que é um Jupyter Notebook?](#parte_1)\n",
    "\n",
    "- [Instalando o Jupyter Notebook](#parte_2)\n",
    "\n",
    "- Executando o Jupyter Notebook\n",
    "\n",
    "- Explicando a Interface\n",
    "\n",
    "- [Keyboard shortcuts](#parte_3)\n",
    "\n",
    "- [Markdown](#parte_4)\n",
    "\n",
    "- [Imagens e fórmulas](#parte_5)"
   ]
  },
  {
   "cell_type": "markdown",
   "id": "a5630dcf-f8a9-42c3-863e-fce332a5283f",
   "metadata": {},
   "source": [
    "## Definição<a id='parte_1'></a>"
   ]
  },
  {
   "cell_type": "markdown",
   "id": "e3aa7ef6-8d84-4d9a-a3f7-fdb4c5365b31",
   "metadata": {},
   "source": [
    "Um notebook integra código e sua saída num único documento que combina visualização, narrativa em texto, equações matemáticas e outras mídias ricas. Em outras palavras: é um único documento em que você executa código, apresenta a saída e adiciona explicações, fórmulas, gráficos e outros, deixando seu trabalho mais transparente, entendível e fácil de compartilhar. "
   ]
  },
  {
   "cell_type": "markdown",
   "id": "f0323712-c35b-4981-a991-227d5013db03",
   "metadata": {},
   "source": [
    "## Instalação<a id='parte_2'></a>"
   ]
  },
  {
   "cell_type": "markdown",
   "id": "cf7cf045-9f0c-4590-95f5-d03373b1f24d",
   "metadata": {},
   "source": [
    "A maneira mais simples de instalar o Jupyter é via instalaçáo do [Anaconda](https://www.anaconda.com/download/).\n",
    "\n",
    "Entretanto, caso você seja um usuário mais avançado de Python, pode fazer a instalação do pacote manualmente via pip: \n",
    "\n",
    "* pip install jupyter"
   ]
  },
  {
   "cell_type": "markdown",
   "id": "8ba1b208-cdc3-4d35-9744-15070f566a6c",
   "metadata": {},
   "source": [
    "## Keyboard Shortcuts<a id='parte_3'></a>"
   ]
  },
  {
   "cell_type": "markdown",
   "id": "220fe205-ca3d-4296-88a1-bcb4a8e23c75",
   "metadata": {},
   "source": [
    "* **Esc** e **Enter** são usadas para alternar a célula entre modo de comando (a seleção fica fora da célula) e modo de edição (a seleção fica interna - para escrever código ou markdown)\n",
    "\n",
    "* Em modo de comando:\n",
    "    1. As setas para cima e para baixo navegam pelas células\n",
    "    2. Pressione A ou B para inserir uma nova célula acima ou abaixo da célula atual\n",
    "    3. M irá transformar a célula ativa numa célula Markdown\n",
    "    4. Y irá transformar a célula ativa numa célula de código\n",
    "    5. D (2x) irá deletar a célula ativa\n",
    "    6. Z desfaz a deleção da célula\n",
    "    7. Segurar Shift e pressione seta para cima ou para baixo para selecionar múltiplas células de uma vez. Com múltiplas células selecionadas, Shift+M irá fazer um merge da seleção\n",
    "    "
   ]
  },
  {
   "cell_type": "markdown",
   "id": "997e3beb-5d1b-4595-bc1e-d17e80d6d268",
   "metadata": {},
   "source": [
    "## Markdown<a id='parte_4'></a>"
   ]
  },
  {
   "cell_type": "markdown",
   "id": "7c7cb401-ada0-4cb0-987a-30df0c19c789",
   "metadata": {},
   "source": [
    "# Cabeçalho nível 1\n",
    "\n",
    "## Cabeçalho nível 2\n",
    "\n",
    "Este é apenas um texto puro. É possível adicionar êmfase usando *itálico*, **negrito** ou __negrito__\n",
    "\n",
    "Parágrafos podem ser separados por uma linha em branco\n",
    "\n",
    "* As vezes você quer usar bullets\n",
    "* que podem ser feitos usando asteríscos\n",
    "\n",
    "1. As listas podem ser numeradas também\n",
    "2. se você as quer de maneira ordenada\n",
    "\n",
    "[É possível incluir links externos](https://www.python.org/)\n",
    "\n",
    "Códigos inline usam um acento grave: `import pandas as pd` e bloco de códigos usam três acentos graves:\n",
    "\n",
    "```\n",
    "def exemplo(x):\n",
    "    y = x\n",
    "    return y\n",
    "```"
   ]
  },
  {
   "cell_type": "markdown",
   "id": "029d13b2-6ed8-451b-a50f-4e390c8dee70",
   "metadata": {},
   "source": [
    "## Imagens e Fórmulas<a id='parte_5'></a>"
   ]
  },
  {
   "cell_type": "markdown",
   "id": "68cdbd09-d911-4f9f-b7da-4b1d77494534",
   "metadata": {},
   "source": [
    "Podemos adicionar imagens de páginas da internet da seguinte maneira:\n",
    "\n",
    "![Símbolo do Python](https://miro.medium.com/v2/resize:fit:1400/1*ycIMlwgwicqlO6PcFRA-Iw.png)\n",
    "\n",
    "Já adicionar imagens a partir do nosso computador é relativamente simples também:\n",
    "\n",
    "<img src=\"img/logo.png\" />"
   ]
  },
  {
   "cell_type": "markdown",
   "id": "1c48b444-87b8-430e-80a6-56d33179b2cd",
   "metadata": {},
   "source": [
    "As fórmulas são construídas a partir da linguagem latex, que é um sistema de composição de alta qualidade. Veja a documentação oficial [aqui](https://www.latex-project.org/). \n",
    "\n",
    "Aprender o latex foge do escopo dessa aula, mas no final eu deixei alguns links para consulta. A título de exemplo, veja as seguintes fórmulas:\n",
    "\n",
    "- Função de Kernel RBF usada no SVM:\n",
    "\n",
    "$\\phi\\gamma(x, \\ell) = exp(-\\gamma\\|x-\\ell\\|^2)$\n",
    "\n",
    "- Função que normaliza os dados usando a técnica chamada MinMaxScaler:\n",
    "\n",
    "\\begin{align}\n",
    "x = \\frac{x - min}{max - min}\n",
    "\\end{align}"
   ]
  }
 ],
 "metadata": {
  "kernelspec": {
   "display_name": "Python 3 (ipykernel)",
   "language": "python",
   "name": "python3"
  },
  "language_info": {
   "codemirror_mode": {
    "name": "ipython",
    "version": 3
   },
   "file_extension": ".py",
   "mimetype": "text/x-python",
   "name": "python",
   "nbconvert_exporter": "python",
   "pygments_lexer": "ipython3",
   "version": "3.10.9"
  }
 },
 "nbformat": 4,
 "nbformat_minor": 5
}
